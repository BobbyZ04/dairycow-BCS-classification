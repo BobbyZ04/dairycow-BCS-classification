{
 "cells": [
  {
   "cell_type": "code",
   "execution_count": 1,
   "id": "3ffb981e",
   "metadata": {},
   "outputs": [],
   "source": [
    "import torch\n",
    "import pandas as pd\n",
    "from torch.optim import Adam\n",
    "from torch.nn import CrossEntropyLoss\n",
    "import matplotlib.pyplot as plt\n",
    "import numpy as np\n",
    "\n",
    "from sklearn.metrics import confusion_matrix, accuracy_score\n",
    "from tqdm import tqdm\n",
    "from skimage.io import imread\n",
    "from skimage.transform import resize\n",
    "#from torchsample.callbacks import EarlyStopping\n",
    "from pytorchtools import EarlyStopping\n",
    "from tester import Tester"
   ]
  },
  {
   "cell_type": "code",
   "execution_count": 2,
   "id": "946738a9",
   "metadata": {},
   "outputs": [],
   "source": [
    "from models import SqueezeNet\n",
    "from models import CNN_model, CNN_S\n",
    "from data_preparation import load_dataset, augmentation, convert\n",
    "from trainer import Trainer"
   ]
  },
  {
   "cell_type": "code",
   "execution_count": 3,
   "id": "d4fb1ce9",
   "metadata": {},
   "outputs": [],
   "source": [
    "#images, matched with labels\n",
    "data = pd.read_csv('C:/Users/BOZ/Zoetis_BCS/train_test_sep/training_label.csv',index_col=False)\n",
    "data_path = 'C:/Users/BOZ/Zoetis_BCS/train_test_sep/new-train/'"
   ]
  },
  {
   "cell_type": "code",
   "execution_count": 4,
   "id": "25c5e85a",
   "metadata": {},
   "outputs": [
    {
     "name": "stderr",
     "output_type": "stream",
     "text": [
      "100%|████████████████████████████████████████████████████████████████████████████████| 509/509 [00:07<00:00, 65.29it/s]\n"
     ]
    },
    {
     "name": "stdout",
     "output_type": "stream",
     "text": [
      "training set:  (509, 224, 224, 3) \t trainng label:  (509,)\n",
      "training set:  ((407, 224, 224, 3), (407,)) \t testing set:  ((102, 224, 224, 3), (102,))\n"
     ]
    }
   ],
   "source": [
    "#load data/labels from image folder and excel form, as training data/labels\n",
    "train_x, val_x, train_y, val_y = load_dataset(img_names=data['image_names'], data_path=data_path, labels = data['new_labels'].values)"
   ]
  },
  {
   "cell_type": "code",
   "execution_count": 5,
   "id": "000b40d1",
   "metadata": {},
   "outputs": [
    {
     "name": "stderr",
     "output_type": "stream",
     "text": [
      "100%|████████████████████████████████████████████████████████████████████████████████| 407/407 [00:10<00:00, 38.30it/s]\n"
     ]
    }
   ],
   "source": [
    "#expand the dataset by augmentation\n",
    "train_x,train_y = augmentation(train_x,train_y)\n",
    "#convert the data to torch tensors for training\n",
    "train_x,train_y,val_x,val_y = convert(train_x,train_y,val_x,val_y)"
   ]
  },
  {
   "cell_type": "code",
   "execution_count": 6,
   "id": "e25ed577",
   "metadata": {},
   "outputs": [],
   "source": [
    "#training process\n",
    "def train_evaluate(params,model):\n",
    "    optimizer = Adam(model.parameters(), lr=params['lr'])\n",
    "    criterion = CrossEntropyLoss()\n",
    "    trainer = Trainer(model=model, optimizer=optimizer, criterion=criterion, train_x=train_x, train_y=train_y,val_x=val_x,val_y=val_y,patience=params['patience']) \n",
    "    train_losses, train_accs, validation_losses, validation_accs, predictions_test = trainer.train_val(n_epochs=params['n_epochs'],batch_size=params['batch_size'])\n",
    "    return (train_losses, train_accs), (validation_losses, validation_accs), predictions_test"
   ]
  },
  {
   "cell_type": "code",
   "execution_count": 7,
   "id": "7c31aeeb",
   "metadata": {},
   "outputs": [
    {
     "name": "stderr",
     "output_type": "stream",
     "text": [
      "100%|██████████████████████████████████████████████████████████████████████████████████| 85/85 [01:40<00:00,  1.19s/it]\n",
      "  0%|                                                                                           | 0/85 [00:00<?, ?it/s]"
     ]
    },
    {
     "name": "stdout",
     "output_type": "stream",
     "text": [
      "Validation loss decreased (inf --> 1.391853).  Saving model ...\n",
      "epoch: 1   training loss:  1.5159282165415147   training accuracy:  40.94943%\n",
      "\t validation loss:  1.3918532133102417 \t validation accuracy:  45.09804%\n"
     ]
    },
    {
     "name": "stderr",
     "output_type": "stream",
     "text": [
      "100%|██████████████████████████████████████████████████████████████████████████████████| 85/85 [01:36<00:00,  1.13s/it]\n",
      "  0%|                                                                                           | 0/85 [00:00<?, ?it/s]"
     ]
    },
    {
     "name": "stdout",
     "output_type": "stream",
     "text": [
      "Validation loss decreased (1.391853 --> 1.224302).  Saving model ...\n",
      "epoch: 2   training loss:  1.2330322532092823   training accuracy:  52.21362%\n",
      "\t validation loss:  1.2243015766143799 \t validation accuracy:  54.90196%\n"
     ]
    },
    {
     "name": "stderr",
     "output_type": "stream",
     "text": [
      "100%|██████████████████████████████████████████████████████████████████████████████████| 85/85 [01:41<00:00,  1.19s/it]\n",
      "  0%|                                                                                           | 0/85 [00:00<?, ?it/s]"
     ]
    },
    {
     "name": "stdout",
     "output_type": "stream",
     "text": [
      "Validation loss decreased (1.224302 --> 1.079961).  Saving model ...\n",
      "epoch: 3   training loss:  1.0282314658164977   training accuracy:  61.29257%\n",
      "\t validation loss:  1.0799612998962402 \t validation accuracy:  62.74510%\n"
     ]
    },
    {
     "name": "stderr",
     "output_type": "stream",
     "text": [
      "100%|██████████████████████████████████████████████████████████████████████████████████| 85/85 [01:40<00:00,  1.19s/it]\n",
      "  0%|                                                                                           | 0/85 [00:00<?, ?it/s]"
     ]
    },
    {
     "name": "stdout",
     "output_type": "stream",
     "text": [
      "Validation loss decreased (1.079961 --> 0.911009).  Saving model ...\n",
      "epoch: 4   training loss:  0.9034527943414801   training accuracy:  66.04747%\n",
      "\t validation loss:  0.9110091924667358 \t validation accuracy:  66.66667%\n"
     ]
    },
    {
     "name": "stderr",
     "output_type": "stream",
     "text": [
      "100%|██████████████████████████████████████████████████████████████████████████████████| 85/85 [01:38<00:00,  1.16s/it]\n",
      "  0%|                                                                                           | 0/85 [00:00<?, ?it/s]"
     ]
    },
    {
     "name": "stdout",
     "output_type": "stream",
     "text": [
      "Validation loss decreased (0.911009 --> 0.858264).  Saving model ...\n",
      "epoch: 5   training loss:  0.7823839478632983   training accuracy:  71.15067%\n",
      "\t validation loss:  0.8582643866539001 \t validation accuracy:  67.64706%\n"
     ]
    },
    {
     "name": "stderr",
     "output_type": "stream",
     "text": [
      "100%|██████████████████████████████████████████████████████████████████████████████████| 85/85 [01:36<00:00,  1.14s/it]\n",
      "  0%|                                                                                           | 0/85 [00:00<?, ?it/s]"
     ]
    },
    {
     "name": "stdout",
     "output_type": "stream",
     "text": [
      "EarlyStopping counter: 1 out of 4\n",
      "epoch: 6   training loss:  0.6706955653779647   training accuracy:  74.98710%\n",
      "\t validation loss:  0.8955944180488586 \t validation accuracy:  68.62745%\n"
     ]
    },
    {
     "name": "stderr",
     "output_type": "stream",
     "text": [
      "100%|██████████████████████████████████████████████████████████████████████████████████| 85/85 [01:39<00:00,  1.17s/it]\n",
      "  0%|                                                                                           | 0/85 [00:00<?, ?it/s]"
     ]
    },
    {
     "name": "stdout",
     "output_type": "stream",
     "text": [
      "Validation loss decreased (0.858264 --> 0.705267).  Saving model ...\n",
      "epoch: 7   training loss:  0.5903763786834829   training accuracy:  78.89577%\n",
      "\t validation loss:  0.7052674293518066 \t validation accuracy:  77.45098%\n"
     ]
    },
    {
     "name": "stderr",
     "output_type": "stream",
     "text": [
      "100%|██████████████████████████████████████████████████████████████████████████████████| 85/85 [01:37<00:00,  1.14s/it]\n",
      "  0%|                                                                                           | 0/85 [00:00<?, ?it/s]"
     ]
    },
    {
     "name": "stdout",
     "output_type": "stream",
     "text": [
      "EarlyStopping counter: 1 out of 4\n",
      "epoch: 8   training loss:  0.5002241995404748   training accuracy:  82.46130%\n",
      "\t validation loss:  0.7730120420455933 \t validation accuracy:  72.54902%\n"
     ]
    },
    {
     "name": "stderr",
     "output_type": "stream",
     "text": [
      "100%|██████████████████████████████████████████████████████████████████████████████████| 85/85 [01:40<00:00,  1.18s/it]\n",
      "  0%|                                                                                           | 0/85 [00:00<?, ?it/s]"
     ]
    },
    {
     "name": "stdout",
     "output_type": "stream",
     "text": [
      "Validation loss decreased (0.705267 --> 0.637837).  Saving model ...\n",
      "epoch: 9   training loss:  0.4225339718601283   training accuracy:  85.27864%\n",
      "\t validation loss:  0.6378369331359863 \t validation accuracy:  77.45098%\n"
     ]
    },
    {
     "name": "stderr",
     "output_type": "stream",
     "text": [
      "100%|██████████████████████████████████████████████████████████████████████████████████| 85/85 [01:38<00:00,  1.16s/it]\n",
      "  0%|                                                                                           | 0/85 [00:00<?, ?it/s]"
     ]
    },
    {
     "name": "stdout",
     "output_type": "stream",
     "text": [
      "EarlyStopping counter: 1 out of 4\n",
      "epoch: 10   training loss:  0.4012033367858214   training accuracy:  86.02683%\n",
      "\t validation loss:  0.6660377383232117 \t validation accuracy:  81.37255%\n"
     ]
    },
    {
     "name": "stderr",
     "output_type": "stream",
     "text": [
      "100%|██████████████████████████████████████████████████████████████████████████████████| 85/85 [01:34<00:00,  1.11s/it]\n",
      "  0%|                                                                                           | 0/85 [00:00<?, ?it/s]"
     ]
    },
    {
     "name": "stdout",
     "output_type": "stream",
     "text": [
      "Validation loss decreased (0.637837 --> 0.509200).  Saving model ...\n",
      "epoch: 11   training loss:  0.33518039145890405   training accuracy:  88.55263%\n",
      "\t validation loss:  0.5092002153396606 \t validation accuracy:  83.33333%\n"
     ]
    },
    {
     "name": "stderr",
     "output_type": "stream",
     "text": [
      "100%|██████████████████████████████████████████████████████████████████████████████████| 85/85 [01:37<00:00,  1.15s/it]\n",
      "  0%|                                                                                           | 0/85 [00:00<?, ?it/s]"
     ]
    },
    {
     "name": "stdout",
     "output_type": "stream",
     "text": [
      "EarlyStopping counter: 1 out of 4\n",
      "epoch: 12   training loss:  0.27929519857553875   training accuracy:  90.37926%\n",
      "\t validation loss:  0.6845758557319641 \t validation accuracy:  80.39216%\n"
     ]
    },
    {
     "name": "stderr",
     "output_type": "stream",
     "text": [
      "100%|██████████████████████████████████████████████████████████████████████████████████| 85/85 [01:37<00:00,  1.14s/it]\n",
      "  0%|                                                                                           | 0/85 [00:00<?, ?it/s]"
     ]
    },
    {
     "name": "stdout",
     "output_type": "stream",
     "text": [
      "EarlyStopping counter: 2 out of 4\n",
      "epoch: 13   training loss:  0.22254055931287653   training accuracy:  92.59804%\n",
      "\t validation loss:  0.5795533657073975 \t validation accuracy:  80.39216%\n"
     ]
    },
    {
     "name": "stderr",
     "output_type": "stream",
     "text": [
      "100%|██████████████████████████████████████████████████████████████████████████████████| 85/85 [01:37<00:00,  1.15s/it]\n",
      "  0%|                                                                                           | 0/85 [00:00<?, ?it/s]"
     ]
    },
    {
     "name": "stdout",
     "output_type": "stream",
     "text": [
      "EarlyStopping counter: 3 out of 4\n",
      "epoch: 14   training loss:  0.20260828978875103   training accuracy:  93.12436%\n",
      "\t validation loss:  0.5689622759819031 \t validation accuracy:  81.37255%\n"
     ]
    },
    {
     "name": "stderr",
     "output_type": "stream",
     "text": [
      "100%|██████████████████████████████████████████████████████████████████████████████████| 85/85 [01:35<00:00,  1.12s/it]\n"
     ]
    },
    {
     "name": "stdout",
     "output_type": "stream",
     "text": [
      "EarlyStopping counter: 4 out of 4\n",
      "Early stopping\n"
     ]
    }
   ],
   "source": [
    "# training params\n",
    "params = {\n",
    "          \"lr\": 0.000075, \n",
    "          \"batch_size\": 24,\n",
    "          \"n_epochs\": 50,\n",
    "          \"patience\": 4\n",
    "         }\n",
    "# traing and evaluating  process\n",
    "model1 = CNN_model(num_classes=6)\n",
    "model2 = SqueezeNet(version=1.0,num_classes=6)\n",
    "model3 = CNN_S(num_classes=6)\n",
    "(train_losses, train_accs), (validation_losses, validation_accs), predictions = train_evaluate(params,model3) "
   ]
  },
  {
   "cell_type": "code",
   "execution_count": 39,
   "id": "fcfebcfa",
   "metadata": {},
   "outputs": [
    {
     "data": {
      "text/plain": [
       "\"\\nload model\\n\\nmodel = CNN_model(nums=6)#model name\\nmodel.load_state_dict(torch.load(PATH))\\nmodel.eval()\\n\\nResults = pd.DataFrame({'train_loss':train_losses, 'train_acc': train_accs, 'val_loss:': validation_losses, 'val_acc': validation_accs})\\nP_L = pd.DataFrame({'label': val_y, 'prediction': predictions})\\nFinal_results = pd.concat([Results,P_L],axis=1)\\nFinal_results.to_excel('Squeezenet_Results.xlsx')\\nFinal_results\\n\""
      ]
     },
     "execution_count": 39,
     "metadata": {},
     "output_type": "execute_result"
    }
   ],
   "source": [
    "PATH = 'C:/Users/BOZ/Zoetis_BCS/CNN_dataset/CNN_S.pt'\n",
    "torch.save(model3.state_dict(), PATH)\n",
    "\n",
    "\n",
    "'''\n",
    "load model\n",
    "\n",
    "model = CNN_model(nums=6)#model name\n",
    "model.load_state_dict(torch.load(PATH))\n",
    "model.eval()\n",
    "\n",
    "Results = pd.DataFrame({'train_loss':train_losses, 'train_acc': train_accs, 'val_loss:': validation_losses, 'val_acc': validation_accs})\n",
    "P_L = pd.DataFrame({'label': val_y, 'prediction': predictions})\n",
    "Final_results = pd.concat([Results,P_L],axis=1)\n",
    "Final_results.to_excel('Squeezenet_Results.xlsx')\n",
    "Final_results\n",
    "'''\n"
   ]
  },
  {
   "cell_type": "code",
   "execution_count": 8,
   "id": "b40ee7b6",
   "metadata": {},
   "outputs": [],
   "source": [
    "def metrics_display(epochs, train_data, validation_data):\n",
    "    fig, ax = plt.subplots(1, 1)\n",
    "    ax.yaxis.set_major_locator(plt.MultipleLocator(0.08))\n",
    "    plt.plot(epochs, train_data, label=\"train\")\n",
    "    plt.plot(epochs, validation_data, label=\"valid\");\n",
    "    plt.scatter(epochs, train_data)\n",
    "    plt.scatter(epochs, validation_data);\n",
    "    plt.legend()\n",
    "    plt.ylabel(\"acc\")\n",
    "    plt.xlabel(\"epoch\")"
   ]
  },
  {
   "cell_type": "code",
   "execution_count": 9,
   "id": "f1c53339",
   "metadata": {},
   "outputs": [],
   "source": [
    "def confusion_matrix_display(labels, predictions): \n",
    "    test_acc = accuracy_score(labels,predictions)\n",
    "    alpha = ['2.5','2.75','3.0','3.25','3.5','4.0']\n",
    "    conf_matrix = confusion_matrix(labels, predictions)\n",
    "    data_conf = conf_matrix.transpose()  \n",
    "    _, ax = plt.subplots()\n",
    "    ax.matshow(data_conf, cmap=\"Blues\")\n",
    "    # printing exact numbers\n",
    "    for (i, j), z in np.ndenumerate(data_conf):\n",
    "        ax.text(j, i, '{}'.format(z), ha='center', va='center')\n",
    "    # axis formatting \n",
    "    ax.set_xticklabels(['']+alpha)\n",
    "    ax.set_yticklabels(['']+alpha)\n",
    "    plt.title(\"True BCS\".format(\" \"*18), fontsize=14)\n",
    "    plt.ylabel(\"Predicted BCS\".format(\" \"*18), fontsize=14)\n",
    "\n",
    "    return test_acc"
   ]
  },
  {
   "cell_type": "code",
   "execution_count": 40,
   "id": "fda88319",
   "metadata": {},
   "outputs": [
    {
     "name": "stdout",
     "output_type": "stream",
     "text": [
      "0.803921568627451\n"
     ]
    },
    {
     "name": "stderr",
     "output_type": "stream",
     "text": [
      "<ipython-input-9-9e82d4b99c73>:12: UserWarning: FixedFormatter should only be used together with FixedLocator\n",
      "  ax.set_xticklabels(['']+alpha)\n",
      "<ipython-input-9-9e82d4b99c73>:13: UserWarning: FixedFormatter should only be used together with FixedLocator\n",
      "  ax.set_yticklabels(['']+alpha)\n"
     ]
    },
    {
     "data": {
      "image/png": "[encoded data removed]",
      "text/plain": [
       "<Figure size 432x288 with 1 Axes>"
      ]
     },
     "metadata": {
      "needs_background": "light"
     },
     "output_type": "display_data"
    },
    {
     "data": {
      "image/png": "[encoded data removed]",
      "text/plain": [
       "<Figure size 432x288 with 1 Axes>"
      ]
     },
     "metadata": {
      "needs_background": "light"
     },
     "output_type": "display_data"
    },
    {
     "data": {
      "image/png": "[encoded data removed]",
      "text/plain": [
       "<Figure size 432x288 with 1 Axes>"
      ]
     },
     "metadata": {
      "needs_background": "light"
     },
     "output_type": "display_data"
    }
   ],
   "source": [
    "epochs = np.arange(1,15+1)\n",
    "metrics_display(epochs, train_accs, validation_accs)\n",
    "metrics_display(epochs, train_losses, validation_losses)\n",
    "validation_results = confusion_matrix_display(val_y, predictions)\n",
    "training_results = confusion_matrix_display(train_y, )\n",
    "print(validation_results)"
   ]
  },
  {
   "cell_type": "code",
   "execution_count": 161,
   "id": "c072528b",
   "metadata": {},
   "outputs": [
    {
     "name": "stderr",
     "output_type": "stream",
     "text": [
      "100%|██████████████████████████████████████████████████████████████████████████████████| 24/24 [00:00<00:00, 70.92it/s]\n",
      "<ipython-input-9-9e82d4b99c73>:12: UserWarning: FixedFormatter should only be used together with FixedLocator\n",
      "  ax.set_xticklabels(['']+alpha)\n",
      "<ipython-input-9-9e82d4b99c73>:13: UserWarning: FixedFormatter should only be used together with FixedLocator\n",
      "  ax.set_yticklabels(['']+alpha)\n"
     ]
    },
    {
     "data": {
      "image/png": "[encoded data removed]",
      "text/plain": [
       "<Figure size 432x288 with 1 Axes>"
      ]
     },
     "metadata": {
      "needs_background": "light"
     },
     "output_type": "display_data"
    }
   ],
   "source": [
    "test_path = 'train_test_sep/new-test/'\n",
    "test_label = pd.read_csv('C:/Users/BOZ/Zoetis_BCS/train_test_sep/testing_label.csv',index_col=False)\n",
    "labels, predictions_test = Tester(test_path,test_label,model3)\n",
    "test_acc = confusion_matrix_display(labels, predictions_test)"
   ]
  }
 ],
 "metadata": {
  "kernelspec": {
   "display_name": "Python 3",
   "language": "python",
   "name": "python3"
  },
  "language_info": {
   "codemirror_mode": {
    "name": "ipython",
    "version": 3
   },
   "file_extension": ".py",
   "mimetype": "text/x-python",
   "name": "python",
   "nbconvert_exporter": "python",
   "pygments_lexer": "ipython3",
   "version": "3.8.8"
  }
 },
 "nbformat": 4,
 "nbformat_minor": 5
}
