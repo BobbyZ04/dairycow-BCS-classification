{
 "cells": [
  {
   "cell_type": "code",
   "execution_count": 133,
   "id": "3ffb981e",
   "metadata": {},
   "outputs": [],
   "source": [
    "import torch\n",
    "import pandas as pd\n",
    "from torch.optim import Adam\n",
    "from torch.nn import CrossEntropyLoss\n",
    "import matplotlib.pyplot as plt\n",
    "import numpy as np\n",
    "from sklearn.metrics import confusion_matrix, accuracy_score\n",
    "#from torchsample.callbacks import EarlyStopping"
   ]
  },
  {
   "cell_type": "code",
   "execution_count": 2,
   "id": "946738a9",
   "metadata": {},
   "outputs": [],
   "source": [
    "from models import SqueezeNet\n",
    "from models import CNN_model\n",
    "from data_preparation import load_dataset, augmentation, convert\n",
    "from trainer import Trainer"
   ]
  },
  {
   "cell_type": "code",
   "execution_count": 140,
   "id": "d4fb1ce9",
   "metadata": {},
   "outputs": [],
   "source": [
    "#images, matched with labels\n",
    "data = pd.read_csv('C:/Users/BOZ/Zoetis_BCS/CNN_dataset/training_labels2.csv',index_col=False)\n",
    "data_path = 'C:/Users/BOZ/Zoetis_BCS/CNN_dataset/whole/'"
   ]
  },
  {
   "cell_type": "code",
   "execution_count": 141,
   "id": "25c5e85a",
   "metadata": {},
   "outputs": [
    {
     "name": "stderr",
     "output_type": "stream",
     "text": [
      "100%|████████████████████████████████████████████████████████████████████████████████| 604/604 [00:08<00:00, 71.20it/s]\n"
     ]
    },
    {
     "name": "stdout",
     "output_type": "stream",
     "text": [
      "training set:  (604, 224, 224, 3) \t trainng label:  (604,)\n",
      "training set:  ((483, 224, 224, 3), (483,)) \t testing set:  ((121, 224, 224, 3), (121,))\n"
     ]
    }
   ],
   "source": [
    "#load data/labels from image folder and excel form, as training data/labels\n",
    "train_x, val_x, train_y, val_y = load_dataset(img_names=data['image_names'], data_path=data_path, labels = data['new_label'].values)"
   ]
  },
  {
   "cell_type": "code",
   "execution_count": 142,
   "id": "000b40d1",
   "metadata": {},
   "outputs": [
    {
     "name": "stderr",
     "output_type": "stream",
     "text": [
      "100%|████████████████████████████████████████████████████████████████████████████████| 483/483 [00:11<00:00, 41.40it/s]\n"
     ]
    }
   ],
   "source": [
    "#expand the dataset by augmentation\n",
    "train_x,train_y = augmentation(train_x,train_y)\n",
    "#convert the data to torch tensors for training\n",
    "train_x,train_y,val_x,val_y = convert(train_x,train_y,val_x,val_y)"
   ]
  },
  {
   "cell_type": "code",
   "execution_count": 57,
   "id": "e25ed577",
   "metadata": {},
   "outputs": [],
   "source": [
    "#training process\n",
    "def train_evaluate(params,model):\n",
    "    optimizer = Adam(model.parameters(), lr=params['lr'])\n",
    "    criterion = CrossEntropyLoss()\n",
    "    trainer = Trainer(model=model, optimizer=optimizer, criterion=criterion, train_x=train_x, train_y=train_y,val_x=val_x,val_y=val_y) \n",
    "    train_losses, train_accs, validation_losses, validation_accs, predictions_test = trainer.train_val(n_epochs=params['n_epochs'],batch_size=params['batch_size'])\n",
    "    return (train_losses, train_accs), (validation_losses, validation_accs), predictions_test"
   ]
  },
  {
   "cell_type": "code",
   "execution_count": 131,
   "id": "7c31aeeb",
   "metadata": {
    "collapsed": true
   },
   "outputs": [
    {
     "ename": "SyntaxError",
     "evalue": "invalid syntax (<ipython-input-131-9b8febb5a630>, line 7)",
     "output_type": "error",
     "traceback": [
      "\u001b[1;36m  File \u001b[1;32m\"<ipython-input-131-9b8febb5a630>\"\u001b[1;36m, line \u001b[1;32m7\u001b[0m\n\u001b[1;33m    }\u001b[0m\n\u001b[1;37m    ^\u001b[0m\n\u001b[1;31mSyntaxError\u001b[0m\u001b[1;31m:\u001b[0m invalid syntax\n"
     ]
    }
   ],
   "source": [
    "# training params\n",
    "params = {\n",
    "          \"lr\": 0.000075, \n",
    "          \"batch_size\": 24,\n",
    "          \"n_epochs\": 50,\n",
    "          \"patience\": 5 \n",
    "         }\n",
    "# traing and evaluating  process\n",
    "model1 = CNN_model(num_classes=6)\n",
    "model2 = SqueezeNet(version=1.0,num_classes=6)\n",
    "(train_losses, train_accs), (validation_losses, validation_accs), predictions = train_evaluate(params,model1) "
   ]
  },
  {
   "cell_type": "code",
   "execution_count": 83,
   "id": "fcfebcfa",
   "metadata": {
    "collapsed": true
   },
   "outputs": [
    {
     "data": {
      "text/plain": [
       "'\\nload model\\n\\nmodel = Net()\\nmodel.load_state_dict(torch.load(PATH))\\nmodel.eval()\\n\\n'"
      ]
     },
     "execution_count": 83,
     "metadata": {},
     "output_type": "execute_result"
    }
   ],
   "source": [
    "'''\n",
    "PATH = 'C:/Users/BOZ/Zoetis_BCS/CNN_dataset/CNN.h5'\n",
    "torch.save(model1.state_dict(), PATH)\n",
    "\n",
    "'''\n",
    "\n",
    "'''\n",
    "load model\n",
    "\n",
    "model = Net()\n",
    "model.load_state_dict(torch.load(PATH))\n",
    "model.eval()\n",
    "\n",
    "'''"
   ]
  },
  {
   "cell_type": "code",
   "execution_count": 60,
   "id": "e92062ae",
   "metadata": {
    "collapsed": true
   },
   "outputs": [
    {
     "data": {
      "text/html": [
       "<div>\n",
       "<style scoped>\n",
       "    .dataframe tbody tr th:only-of-type {\n",
       "        vertical-align: middle;\n",
       "    }\n",
       "\n",
       "    .dataframe tbody tr th {\n",
       "        vertical-align: top;\n",
       "    }\n",
       "\n",
       "    .dataframe thead th {\n",
       "        text-align: right;\n",
       "    }\n",
       "</style>\n",
       "<table border=\"1\" class=\"dataframe\">\n",
       "  <thead>\n",
       "    <tr style=\"text-align: right;\">\n",
       "      <th></th>\n",
       "      <th>train_loss</th>\n",
       "      <th>train_acc</th>\n",
       "      <th>val_loss:</th>\n",
       "      <th>val_acc</th>\n",
       "      <th>label</th>\n",
       "      <th>prediction</th>\n",
       "    </tr>\n",
       "  </thead>\n",
       "  <tbody>\n",
       "    <tr>\n",
       "      <th>0</th>\n",
       "      <td>1.644192</td>\n",
       "      <td>0.342</td>\n",
       "      <td>1.472205</td>\n",
       "      <td>0.421</td>\n",
       "      <td>3.0</td>\n",
       "      <td>3</td>\n",
       "    </tr>\n",
       "    <tr>\n",
       "      <th>1</th>\n",
       "      <td>1.397949</td>\n",
       "      <td>0.424</td>\n",
       "      <td>1.298821</td>\n",
       "      <td>0.471</td>\n",
       "      <td>2.0</td>\n",
       "      <td>2</td>\n",
       "    </tr>\n",
       "    <tr>\n",
       "      <th>2</th>\n",
       "      <td>1.252814</td>\n",
       "      <td>0.463</td>\n",
       "      <td>1.224078</td>\n",
       "      <td>0.479</td>\n",
       "      <td>2.0</td>\n",
       "      <td>2</td>\n",
       "    </tr>\n",
       "    <tr>\n",
       "      <th>3</th>\n",
       "      <td>1.110061</td>\n",
       "      <td>0.526</td>\n",
       "      <td>1.019859</td>\n",
       "      <td>0.587</td>\n",
       "      <td>3.0</td>\n",
       "      <td>4</td>\n",
       "    </tr>\n",
       "    <tr>\n",
       "      <th>4</th>\n",
       "      <td>1.012858</td>\n",
       "      <td>0.582</td>\n",
       "      <td>0.910169</td>\n",
       "      <td>0.645</td>\n",
       "      <td>1.0</td>\n",
       "      <td>1</td>\n",
       "    </tr>\n",
       "    <tr>\n",
       "      <th>...</th>\n",
       "      <td>...</td>\n",
       "      <td>...</td>\n",
       "      <td>...</td>\n",
       "      <td>...</td>\n",
       "      <td>...</td>\n",
       "      <td>...</td>\n",
       "    </tr>\n",
       "    <tr>\n",
       "      <th>116</th>\n",
       "      <td>NaN</td>\n",
       "      <td>NaN</td>\n",
       "      <td>NaN</td>\n",
       "      <td>NaN</td>\n",
       "      <td>4.0</td>\n",
       "      <td>4</td>\n",
       "    </tr>\n",
       "    <tr>\n",
       "      <th>117</th>\n",
       "      <td>NaN</td>\n",
       "      <td>NaN</td>\n",
       "      <td>NaN</td>\n",
       "      <td>NaN</td>\n",
       "      <td>0.0</td>\n",
       "      <td>0</td>\n",
       "    </tr>\n",
       "    <tr>\n",
       "      <th>118</th>\n",
       "      <td>NaN</td>\n",
       "      <td>NaN</td>\n",
       "      <td>NaN</td>\n",
       "      <td>NaN</td>\n",
       "      <td>4.0</td>\n",
       "      <td>4</td>\n",
       "    </tr>\n",
       "    <tr>\n",
       "      <th>119</th>\n",
       "      <td>NaN</td>\n",
       "      <td>NaN</td>\n",
       "      <td>NaN</td>\n",
       "      <td>NaN</td>\n",
       "      <td>2.0</td>\n",
       "      <td>2</td>\n",
       "    </tr>\n",
       "    <tr>\n",
       "      <th>120</th>\n",
       "      <td>NaN</td>\n",
       "      <td>NaN</td>\n",
       "      <td>NaN</td>\n",
       "      <td>NaN</td>\n",
       "      <td>1.0</td>\n",
       "      <td>1</td>\n",
       "    </tr>\n",
       "  </tbody>\n",
       "</table>\n",
       "<p>121 rows × 6 columns</p>\n",
       "</div>"
      ],
      "text/plain": [
       "     train_loss train_acc  val_loss: val_acc  label  prediction\n",
       "0      1.644192     0.342   1.472205   0.421    3.0           3\n",
       "1      1.397949     0.424   1.298821   0.471    2.0           2\n",
       "2      1.252814     0.463   1.224078   0.479    2.0           2\n",
       "3      1.110061     0.526   1.019859   0.587    3.0           4\n",
       "4      1.012858     0.582   0.910169   0.645    1.0           1\n",
       "..          ...       ...        ...     ...    ...         ...\n",
       "116         NaN       NaN        NaN     NaN    4.0           4\n",
       "117         NaN       NaN        NaN     NaN    0.0           0\n",
       "118         NaN       NaN        NaN     NaN    4.0           4\n",
       "119         NaN       NaN        NaN     NaN    2.0           2\n",
       "120         NaN       NaN        NaN     NaN    1.0           1\n",
       "\n",
       "[121 rows x 6 columns]"
      ]
     },
     "execution_count": 60,
     "metadata": {},
     "output_type": "execute_result"
    }
   ],
   "source": [
    "Results = pd.DataFrame({'train_loss':train_losses, 'train_acc': train_accs, 'val_loss:': validation_losses, 'val_acc': validation_accs})\n",
    "P_L = pd.DataFrame({'label': val_y, 'prediction': predictions})\n",
    "Final_results = pd.concat([Results,P_L],axis=1)\n",
    "Final_results.to_excel('CNN_Results.xlsx')\n",
    "Final_results"
   ]
  },
  {
   "cell_type": "code",
   "execution_count": 86,
   "id": "35f7def2",
   "metadata": {},
   "outputs": [],
   "source": [
    "#train_accs = [float(x) for x in train_accs]\n",
    "#validation_accs = [float(x) for x in validation_accs]"
   ]
  },
  {
   "cell_type": "code",
   "execution_count": 91,
   "id": "e2db3db3",
   "metadata": {},
   "outputs": [
    {
     "data": {
      "text/plain": [
       "Text(0.5, 0, 'epoch')"
      ]
     },
     "execution_count": 91,
     "metadata": {},
     "output_type": "execute_result"
    },
    {
     "data": {
      "image/png": "[encoded data removed]",
      "text/plain": [
       "<Figure size 432x288 with 1 Axes>"
      ]
     },
     "metadata": {
      "needs_background": "light"
     },
     "output_type": "display_data"
    }
   ],
   "source": [
    "fig, ax = plt.subplots(1, 1)\n",
    "ax.yaxis.set_major_locator(plt.MultipleLocator(0.04))\n",
    "plt.plot(epochs, train_accs, label=\"train\")\n",
    "plt.plot(epochs, validation_accs, label=\"valid\");\n",
    "plt.scatter(epochs, train_accs)\n",
    "plt.scatter(epochs, validation_accs);\n",
    "plt.legend()\n",
    "plt.ylabel(\"acc\")\n",
    "plt.xlabel(\"epoch\")"
   ]
  },
  {
   "cell_type": "code",
   "execution_count": 65,
   "id": "06b5fd7d",
   "metadata": {},
   "outputs": [
    {
     "data": {
      "text/plain": [
       "Text(0.5, 0, 'epoch')"
      ]
     },
     "execution_count": 65,
     "metadata": {},
     "output_type": "execute_result"
    },
    {
     "data": {
      "image/png": "[encoded data removed]",
      "text/plain": [
       "<Figure size 432x288 with 1 Axes>"
      ]
     },
     "metadata": {
      "needs_background": "light"
     },
     "output_type": "display_data"
    }
   ],
   "source": [
    "fig, ax = plt.subplots(1, 1)\n",
    "ax.yaxis.set_major_locator(plt.MultipleLocator(0.08))\n",
    "plt.plot(epochs, train_losses, label=\"train\")\n",
    "plt.plot(epochs, validation_losses, label=\"valid\");\n",
    "plt.scatter(epochs, train_losses)\n",
    "plt.scatter(epochs, validation_losses);\n",
    "plt.legend()\n",
    "plt.ylabel(\"loss\")\n",
    "plt.xlabel(\"epoch\")"
   ]
  },
  {
   "cell_type": "code",
   "execution_count": 145,
   "id": "837a905c",
   "metadata": {},
   "outputs": [
    {
     "name": "stderr",
     "output_type": "stream",
     "text": [
      "<ipython-input-145-85cd2b0361ab>:10: UserWarning: FixedFormatter should only be used together with FixedLocator\n",
      "  ax.set_xticklabels(['']+alpha)\n",
      "<ipython-input-145-85cd2b0361ab>:11: UserWarning: FixedFormatter should only be used together with FixedLocator\n",
      "  ax.set_yticklabels(['']+alpha)\n"
     ]
    },
    {
     "data": {
      "text/plain": [
       "Text(0, 0.5, 'Predicted BCS')"
      ]
     },
     "execution_count": 145,
     "metadata": {},
     "output_type": "execute_result"
    },
    {
     "data": {
      "image/png": "[encoded data removed]",
      "text/plain": [
       "<Figure size 432x288 with 1 Axes>"
      ]
     },
     "metadata": {
      "needs_background": "light"
     },
     "output_type": "display_data"
    }
   ],
   "source": [
    "alpha = ['2.5','2.75','3.0','3.25','3.5','4.0']\n",
    "conf_matrix = confusion_matrix(val_y, predictions)\n",
    "data_conf = conf_matrix.transpose()  \n",
    "_, ax = plt.subplots()\n",
    "ax.matshow(data_conf, cmap=\"Blues\")\n",
    "# printing exact numbers\n",
    "for (i, j), z in np.ndenumerate(data_conf):\n",
    "    ax.text(j, i, '{}'.format(z), ha='center', va='center')\n",
    "# axis formatting \n",
    "ax.set_xticklabels(['']+alpha)\n",
    "ax.set_yticklabels(['']+alpha)\n",
    "plt.title(\"True BCS\".format(\" \"*18), fontsize=14)\n",
    "plt.ylabel(\"Predicted BCS\".format(\" \"*18), fontsize=14)"
   ]
  },
  {
   "cell_type": "code",
   "execution_count": 139,
   "id": "eb49b455",
   "metadata": {},
   "outputs": [
    {
     "name": "stderr",
     "output_type": "stream",
     "text": [
      "100%|████████████████████████████████████████████████████████████████████████████████| 604/604 [00:08<00:00, 70.71it/s]\n"
     ]
    }
   ],
   "source": [
    "#test on the whole dataset\n",
    "from tqdm import tqdm\n",
    "from skimage.io import imread\n",
    "from skimage.transform import resize"
   ]
  },
  {
   "cell_type": "code",
   "execution_count": 155,
   "id": "f1c53339",
   "metadata": {},
   "outputs": [],
   "source": [
    "def confusion_matrix_display(labels, predictions): \n",
    "    test_acc = accuracy_score(labels,predictions)\n",
    "    alpha = ['2.5','2.75','3.0','3.25','3.5','4.0']\n",
    "    conf_matrix = confusion_matrix(labels, predictions)\n",
    "    data_conf = conf_matrix.transpose()  \n",
    "    _, ax = plt.subplots()\n",
    "    ax.matshow(data_conf, cmap=\"Blues\")\n",
    "    # printing exact numbers\n",
    "    for (i, j), z in np.ndenumerate(data_conf):\n",
    "        ax.text(j, i, '{}'.format(z), ha='center', va='center')\n",
    "    # axis formatting \n",
    "    ax.set_xticklabels(['']+alpha)\n",
    "    ax.set_yticklabels(['']+alpha)\n",
    "    plt.title(\"True BCS\".format(\" \"*18), fontsize=14)\n",
    "    plt.ylabel(\"Predicted BCS\".format(\" \"*18), fontsize=14)\n",
    "\n",
    "    return test_acc"
   ]
  },
  {
   "cell_type": "code",
   "execution_count": 170,
   "id": "102e079e",
   "metadata": {},
   "outputs": [],
   "source": [
    "def tester(test_img_path, data, model):\n",
    "    imgs = data['image_names']\n",
    "    cropped_imgs = []\n",
    "    for img_name in tqdm(imgs):\n",
    "        img_path =  test_img_path + img_name\n",
    "        img = imread(img_path)\n",
    "        img_resized = resize(img,(224,224),anti_aliasing=True)\n",
    "        cropped_imgs.append(img_resized)\n",
    "\n",
    "    whole_x = np.array(cropped_imgs)\n",
    "    whole_y = data['new_label'].values\n",
    "    \n",
    "    whole_x = whole_x.reshape(len(whole_y), 3, 224, 224)\n",
    "    \n",
    "    #transform the array data to tensors\n",
    "    whole_x  = torch.from_numpy(whole_x)\n",
    "    whole_x = whole_x.float()\n",
    "    #use models to make predictions\n",
    "    predicted = model(whole_x)\n",
    "    \n",
    "    softmax_test = torch.exp(predicted)\n",
    "    prob_test = list(softmax_test.detach().numpy())\n",
    "    predictions_test = np.argmax(prob_test, axis=1)\n",
    "    \n",
    "    return whole_y, predictions_test"
   ]
  },
  {
   "cell_type": "code",
   "execution_count": 171,
   "id": "c072528b",
   "metadata": {},
   "outputs": [
    {
     "name": "stderr",
     "output_type": "stream",
     "text": [
      "100%|████████████████████████████████████████████████████████████████████████████████| 604/604 [00:09<00:00, 64.55it/s]\n"
     ]
    }
   ],
   "source": [
    "labels, predictions_test = tester(data_path,data,model1)"
   ]
  },
  {
   "cell_type": "code",
   "execution_count": 173,
   "id": "9fcf06e4",
   "metadata": {},
   "outputs": [
    {
     "name": "stderr",
     "output_type": "stream",
     "text": [
      "<ipython-input-155-444b6e913ba4>:12: UserWarning: FixedFormatter should only be used together with FixedLocator\n",
      "  ax.set_xticklabels(['']+alpha)\n",
      "<ipython-input-155-444b6e913ba4>:13: UserWarning: FixedFormatter should only be used together with FixedLocator\n",
      "  ax.set_yticklabels(['']+alpha)\n"
     ]
    },
    {
     "name": "stdout",
     "output_type": "stream",
     "text": [
      "0.9768211920529801\n"
     ]
    },
    {
     "data": {
      "image/png": "[encoded data removed]",
      "text/plain": [
       "<Figure size 432x288 with 1 Axes>"
      ]
     },
     "metadata": {
      "needs_background": "light"
     },
     "output_type": "display_data"
    }
   ],
   "source": [
    "test_acc = confusion_matrix_display(labels, predictions_test)\n",
    "print(test_acc)"
   ]
  },
  {
   "cell_type": "code",
   "execution_count": null,
   "id": "5a0af389",
   "metadata": {},
   "outputs": [],
   "source": []
  }
 ],
 "metadata": {
  "kernelspec": {
   "display_name": "Python 3",
   "language": "python",
   "name": "python3"
  },
  "language_info": {
   "codemirror_mode": {
    "name": "ipython",
    "version": 3
   },
   "file_extension": ".py",
   "mimetype": "text/x-python",
   "name": "python",
   "nbconvert_exporter": "python",
   "pygments_lexer": "ipython3",
   "version": "3.8.8"
  }
 },
 "nbformat": 4,
 "nbformat_minor": 5
}
