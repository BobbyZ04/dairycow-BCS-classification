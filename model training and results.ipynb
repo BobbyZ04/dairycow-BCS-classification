{
 "cells": [
  {
   "cell_type": "code",
   "execution_count": 15,
   "id": "3ffb981e",
   "metadata": {},
   "outputs": [],
   "source": [
    "import torch\n",
    "import pandas as pd\n",
    "from torch.optim import Adam\n",
    "from torch.nn import CrossEntropyLoss\n",
    "import matplotlib.pyplot as plt\n",
    "import numpy as np"
   ]
  },
  {
   "cell_type": "code",
   "execution_count": 2,
   "id": "946738a9",
   "metadata": {},
   "outputs": [],
   "source": [
    "from models import SqueezeNet\n",
    "from models import CNN_model\n",
    "from data_preparation import load_dataset, augmentation, convert\n",
    "from trainer import Trainer"
   ]
  },
  {
   "cell_type": "code",
   "execution_count": 3,
   "id": "d4fb1ce9",
   "metadata": {},
   "outputs": [],
   "source": [
    "#images, matched with labels\n",
    "data = pd.read_csv('C:/Users/BOZ/Zoetis_BCS/CNN_dataset/training_labels2.csv',index_col=False)\n",
    "data_path = 'C:/Users/BOZ/Zoetis_BCS/CNN_dataset/whole/'"
   ]
  },
  {
   "cell_type": "code",
   "execution_count": 4,
   "id": "25c5e85a",
   "metadata": {},
   "outputs": [
    {
     "name": "stderr",
     "output_type": "stream",
     "text": [
      "100%|████████████████████████████████████████████████████████████████████████████████| 604/604 [00:09<00:00, 67.10it/s]\n"
     ]
    },
    {
     "name": "stdout",
     "output_type": "stream",
     "text": [
      "training set:  (604, 224, 224, 3) \t trainng label:  (604,)\n",
      "training set:  ((483, 224, 224, 3), (483,)) \t testing set:  ((121, 224, 224, 3), (121,))\n"
     ]
    }
   ],
   "source": [
    "#load data/labels from image folder and excel form, as training data/labels\n",
    "train_x, val_x, train_y, val_y = load_dataset(img_names=data['image_names'], data_path=data_path, labels = data['new_label'].values)"
   ]
  },
  {
   "cell_type": "code",
   "execution_count": 5,
   "id": "000b40d1",
   "metadata": {},
   "outputs": [
    {
     "name": "stderr",
     "output_type": "stream",
     "text": [
      "100%|████████████████████████████████████████████████████████████████████████████████| 483/483 [00:12<00:00, 40.16it/s]\n"
     ]
    }
   ],
   "source": [
    "#expand the dataset by augmentation\n",
    "train_x,train_y = augmentation(train_x,train_y)\n",
    "#convert the data to torch tensors for training\n",
    "train_x,train_y,val_x,val_y = convert(train_x,train_y,val_x,val_y)"
   ]
  },
  {
   "cell_type": "code",
   "execution_count": 6,
   "id": "e25ed577",
   "metadata": {},
   "outputs": [],
   "source": [
    "#training process\n",
    "def train_evaluate(params,model):\n",
    "    optimizer = Adam(model.parameters(), lr=params['lr'])\n",
    "    criterion = CrossEntropyLoss()\n",
    "    trainer = Trainer(model=model, optimizer=optimizer, criterion=criterion, train_x=train_x, train_y=train_y,val_x=val_x,val_y=val_y) \n",
    "    epochs, train_losses, train_accs, validation_accs, validation_losses, predictions_test = trainer.train_val(n_epochs=params['n_epochs'],batch_size=params['batch_size'])\n",
    "    return epochs, (train_losses, train_accs), (validation_accs, validation_losses), predictions_test"
   ]
  },
  {
   "cell_type": "code",
   "execution_count": 7,
   "id": "7c31aeeb",
   "metadata": {},
   "outputs": [
    {
     "name": "stderr",
     "output_type": "stream",
     "text": [
      "100%|██████████████████████████████████████████████████████████████████████████████████| 76/76 [03:16<00:00,  2.58s/it]\n",
      "  0%|                                                                                           | 0/76 [00:00<?, ?it/s]"
     ]
    },
    {
     "name": "stdout",
     "output_type": "stream",
     "text": [
      "epoch: 1   training loss:  1.632481625205592   training accuracy:  34.97807%\n",
      "\t validation loss:  1.524971842765808 \t validation accuracy:  40.49587%\n"
     ]
    },
    {
     "name": "stderr",
     "output_type": "stream",
     "text": [
      "100%|██████████████████████████████████████████████████████████████████████████████████| 76/76 [03:17<00:00,  2.59s/it]\n",
      "  0%|                                                                                           | 0/76 [00:00<?, ?it/s]"
     ]
    },
    {
     "name": "stdout",
     "output_type": "stream",
     "text": [
      "epoch: 2   training loss:  1.4172695686942653   training accuracy:  42.83169%\n",
      "\t validation loss:  1.3433637619018555 \t validation accuracy:  47.10744%\n"
     ]
    },
    {
     "name": "stderr",
     "output_type": "stream",
     "text": [
      "100%|██████████████████████████████████████████████████████████████████████████████████| 76/76 [03:16<00:00,  2.58s/it]\n",
      "  0%|                                                                                           | 0/76 [00:00<?, ?it/s]"
     ]
    },
    {
     "name": "stdout",
     "output_type": "stream",
     "text": [
      "epoch: 3   training loss:  1.2571277947802293   training accuracy:  46.50768%\n",
      "\t validation loss:  1.1336079835891724 \t validation accuracy:  53.71901%\n"
     ]
    },
    {
     "name": "stderr",
     "output_type": "stream",
     "text": [
      "100%|██████████████████████████████████████████████████████████████████████████████████| 76/76 [03:21<00:00,  2.65s/it]\n",
      "  0%|                                                                                           | 0/76 [00:00<?, ?it/s]"
     ]
    },
    {
     "name": "stdout",
     "output_type": "stream",
     "text": [
      "epoch: 4   training loss:  1.1481180465535115   training accuracy:  52.15186%\n",
      "\t validation loss:  0.997664213180542 \t validation accuracy:  63.63636%\n"
     ]
    },
    {
     "name": "stderr",
     "output_type": "stream",
     "text": [
      "100%|██████████████████████████████████████████████████████████████████████████████████| 76/76 [03:15<00:00,  2.57s/it]\n",
      "  0%|                                                                                           | 0/76 [00:00<?, ?it/s]"
     ]
    },
    {
     "name": "stdout",
     "output_type": "stream",
     "text": [
      "epoch: 5   training loss:  1.0027833541757183   training accuracy:  58.72533%\n",
      "\t validation loss:  0.9209783673286438 \t validation accuracy:  63.63636%\n"
     ]
    },
    {
     "name": "stderr",
     "output_type": "stream",
     "text": [
      "100%|██████████████████████████████████████████████████████████████████████████████████| 76/76 [03:15<00:00,  2.57s/it]\n",
      "  0%|                                                                                           | 0/76 [00:00<?, ?it/s]"
     ]
    },
    {
     "name": "stdout",
     "output_type": "stream",
     "text": [
      "epoch: 6   training loss:  0.8680157794764167   training accuracy:  65.72094%\n",
      "\t validation loss:  0.8527757525444031 \t validation accuracy:  71.90083%\n"
     ]
    },
    {
     "name": "stderr",
     "output_type": "stream",
     "text": [
      "100%|██████████████████████████████████████████████████████████████████████████████████| 76/76 [03:17<00:00,  2.60s/it]\n",
      "  0%|                                                                                           | 0/76 [00:00<?, ?it/s]"
     ]
    },
    {
     "name": "stdout",
     "output_type": "stream",
     "text": [
      "epoch: 7   training loss:  0.723883748838776   training accuracy:  73.37993%\n",
      "\t validation loss:  0.7297486066818237 \t validation accuracy:  77.68595%\n"
     ]
    },
    {
     "name": "stderr",
     "output_type": "stream",
     "text": [
      "100%|██████████████████████████████████████████████████████████████████████████████████| 76/76 [03:16<00:00,  2.59s/it]\n",
      "  0%|                                                                                           | 0/76 [00:00<?, ?it/s]"
     ]
    },
    {
     "name": "stdout",
     "output_type": "stream",
     "text": [
      "epoch: 8   training loss:  0.6056114688123527   training accuracy:  78.15515%\n",
      "\t validation loss:  0.7270981073379517 \t validation accuracy:  76.85950%\n"
     ]
    },
    {
     "name": "stderr",
     "output_type": "stream",
     "text": [
      "100%|██████████████████████████████████████████████████████████████████████████████████| 76/76 [03:20<00:00,  2.63s/it]\n",
      "  0%|                                                                                           | 0/76 [00:00<?, ?it/s]"
     ]
    },
    {
     "name": "stdout",
     "output_type": "stream",
     "text": [
      "epoch: 9   training loss:  0.5018449017876073   training accuracy:  82.36020%\n",
      "\t validation loss:  0.6924892663955688 \t validation accuracy:  76.03306%\n"
     ]
    },
    {
     "name": "stderr",
     "output_type": "stream",
     "text": [
      "100%|██████████████████████████████████████████████████████████████████████████████████| 76/76 [03:20<00:00,  2.64s/it]\n",
      "  0%|                                                                                           | 0/76 [00:00<?, ?it/s]"
     ]
    },
    {
     "name": "stdout",
     "output_type": "stream",
     "text": [
      "epoch: 10   training loss:  0.4604528875727403   training accuracy:  83.03728%\n",
      "\t validation loss:  0.49397480487823486 \t validation accuracy:  88.42975%\n"
     ]
    },
    {
     "name": "stderr",
     "output_type": "stream",
     "text": [
      "100%|██████████████████████████████████████████████████████████████████████████████████| 76/76 [03:18<00:00,  2.61s/it]\n",
      "  0%|                                                                                           | 0/76 [00:00<?, ?it/s]"
     ]
    },
    {
     "name": "stdout",
     "output_type": "stream",
     "text": [
      "epoch: 11   training loss:  0.34835667829764516   training accuracy:  87.93586%\n",
      "\t validation loss:  0.408917635679245 \t validation accuracy:  90.08264%\n"
     ]
    },
    {
     "name": "stderr",
     "output_type": "stream",
     "text": [
      "100%|██████████████████████████████████████████████████████████████████████████████████| 76/76 [03:19<00:00,  2.62s/it]\n",
      "  0%|                                                                                           | 0/76 [00:00<?, ?it/s]"
     ]
    },
    {
     "name": "stdout",
     "output_type": "stream",
     "text": [
      "epoch: 12   training loss:  0.3433031604478234   training accuracy:  87.94682%\n",
      "\t validation loss:  0.5180131793022156 \t validation accuracy:  83.47107%\n"
     ]
    },
    {
     "name": "stderr",
     "output_type": "stream",
     "text": [
      "100%|██████████████████████████████████████████████████████████████████████████████████| 76/76 [03:19<00:00,  2.63s/it]\n",
      "  0%|                                                                                           | 0/76 [00:00<?, ?it/s]"
     ]
    },
    {
     "name": "stdout",
     "output_type": "stream",
     "text": [
      "epoch: 13   training loss:  0.27235461908735725   training accuracy:  90.23849%\n",
      "\t validation loss:  0.48825326561927795 \t validation accuracy:  87.60331%\n"
     ]
    },
    {
     "name": "stderr",
     "output_type": "stream",
     "text": [
      "100%|██████████████████████████████████████████████████████████████████████████████████| 76/76 [03:19<00:00,  2.62s/it]\n",
      "  0%|                                                                                           | 0/76 [00:00<?, ?it/s]"
     ]
    },
    {
     "name": "stdout",
     "output_type": "stream",
     "text": [
      "epoch: 14   training loss:  0.23036656059373758   training accuracy:  92.59868%\n",
      "\t validation loss:  0.3960016071796417 \t validation accuracy:  88.42975%\n"
     ]
    },
    {
     "name": "stderr",
     "output_type": "stream",
     "text": [
      "100%|██████████████████████████████████████████████████████████████████████████████████| 76/76 [03:15<00:00,  2.58s/it]\n",
      "  0%|                                                                                           | 0/76 [00:00<?, ?it/s]"
     ]
    },
    {
     "name": "stdout",
     "output_type": "stream",
     "text": [
      "epoch: 15   training loss:  0.20074236743446244   training accuracy:  93.07566%\n",
      "\t validation loss:  0.5393580198287964 \t validation accuracy:  86.77686%\n"
     ]
    },
    {
     "name": "stderr",
     "output_type": "stream",
     "text": [
      "100%|██████████████████████████████████████████████████████████████████████████████████| 76/76 [03:17<00:00,  2.59s/it]\n",
      "  0%|                                                                                           | 0/76 [00:00<?, ?it/s]"
     ]
    },
    {
     "name": "stdout",
     "output_type": "stream",
     "text": [
      "epoch: 16   training loss:  0.15878517121860855   training accuracy:  95.43586%\n",
      "\t validation loss:  0.5320125818252563 \t validation accuracy:  84.29752%\n"
     ]
    },
    {
     "name": "stderr",
     "output_type": "stream",
     "text": [
      "100%|██████████████████████████████████████████████████████████████████████████████████| 76/76 [03:18<00:00,  2.61s/it]\n",
      "  0%|                                                                                           | 0/76 [00:00<?, ?it/s]"
     ]
    },
    {
     "name": "stdout",
     "output_type": "stream",
     "text": [
      "epoch: 17   training loss:  0.15573059277314888   training accuracy:  94.94243%\n",
      "\t validation loss:  0.5998601317405701 \t validation accuracy:  85.95041%\n"
     ]
    },
    {
     "name": "stderr",
     "output_type": "stream",
     "text": [
      "100%|██████████████████████████████████████████████████████████████████████████████████| 76/76 [03:19<00:00,  2.63s/it]\n",
      "  0%|                                                                                           | 0/76 [00:00<?, ?it/s]"
     ]
    },
    {
     "name": "stdout",
     "output_type": "stream",
     "text": [
      "epoch: 18   training loss:  0.13209424322274954   training accuracy:  95.63048%\n",
      "\t validation loss:  0.6180562973022461 \t validation accuracy:  88.42975%\n"
     ]
    },
    {
     "name": "stderr",
     "output_type": "stream",
     "text": [
      "100%|██████████████████████████████████████████████████████████████████████████████████| 76/76 [03:17<00:00,  2.59s/it]\n",
      "  0%|                                                                                           | 0/76 [00:00<?, ?it/s]"
     ]
    },
    {
     "name": "stdout",
     "output_type": "stream",
     "text": [
      "epoch: 19   training loss:  0.1014763554313073   training accuracy:  96.79276%\n",
      "\t validation loss:  0.4811299443244934 \t validation accuracy:  86.77686%\n"
     ]
    },
    {
     "name": "stderr",
     "output_type": "stream",
     "text": [
      "100%|██████████████████████████████████████████████████████████████████████████████████| 76/76 [03:19<00:00,  2.63s/it]\n"
     ]
    },
    {
     "name": "stdout",
     "output_type": "stream",
     "text": [
      "epoch: 20   training loss:  0.1046497575007379   training accuracy:  96.71053%\n",
      "\t validation loss:  0.5566480755805969 \t validation accuracy:  86.77686%\n"
     ]
    }
   ],
   "source": [
    "# training params\n",
    "params = {\n",
    "          \"lr\": 0.00008, \n",
    "          \"batch_size\": 32, \n",
    "          \"n_epochs\": 20\n",
    "         }\n",
    "# traing and evaluating  process\n",
    "model1 = CNN_model(num_classes=6)\n",
    "model2 = SqueezeNet(version=1.0,num_classes=6)\n",
    "epochs, (train_losses, train_accs), (validation_accs, validation_losses), predictions = train_evaluate(params,model1) "
   ]
  },
  {
   "cell_type": "code",
   "execution_count": 25,
   "id": "e2db3db3",
   "metadata": {},
   "outputs": [
    {
     "data": {
      "text/plain": [
       "Text(0.5, 0, 'epoch')"
      ]
     },
     "execution_count": 25,
     "metadata": {},
     "output_type": "execute_result"
    },
    {
     "data": {
      "image/png": "[encoded data removed]",
      "text/plain": [
       "<Figure size 432x288 with 1 Axes>"
      ]
     },
     "metadata": {
      "needs_background": "light"
     },
     "output_type": "display_data"
    }
   ],
   "source": [
    "#epochs = np.arange(1, params['n_epochs']+1, 1)\n",
    "plt.plot(epochs, train_accs, label=\"train\")\n",
    "plt.plot(epochs, validation_accs, label=\"valid\")\n",
    "plt.scatter(epochs, train_accs)\n",
    "plt.scatter(epochs, validation_accs)\n",
    "plt.legend()\n",
    "plt.ylabel(\"auc\")\n",
    "plt.xlabel(\"epoch\")"
   ]
  },
  {
   "cell_type": "code",
   "execution_count": 26,
   "id": "06b5fd7d",
   "metadata": {},
   "outputs": [
    {
     "data": {
      "text/plain": [
       "Text(0.5, 0, 'epoch')"
      ]
     },
     "execution_count": 26,
     "metadata": {},
     "output_type": "execute_result"
    },
    {
     "data": {
      "image/png": "[encoded data removed]",
      "text/plain": [
       "<Figure size 432x288 with 1 Axes>"
      ]
     },
     "metadata": {
      "needs_background": "light"
     },
     "output_type": "display_data"
    }
   ],
   "source": [
    "#epoch_list = np.arange(1, N_EPOCHS+1, 1)\n",
    "plt.plot(epochs, train_losses, label=\"train\")\n",
    "plt.plot(epochs, validation_losses, label=\"valid\");\n",
    "plt.scatter(epochs, train_losses)\n",
    "plt.scatter(epochs, validation_losses);\n",
    "plt.legend()\n",
    "plt.ylabel(\"auc\")\n",
    "plt.xlabel(\"epoch\")"
   ]
  },
  {
   "cell_type": "code",
   "execution_count": null,
   "id": "15f6c5c6",
   "metadata": {},
   "outputs": [],
   "source": []
  }
 ],
 "metadata": {
  "kernelspec": {
   "display_name": "Python 3",
   "language": "python",
   "name": "python3"
  },
  "language_info": {
   "codemirror_mode": {
    "name": "ipython",
    "version": 3
   },
   "file_extension": ".py",
   "mimetype": "text/x-python",
   "name": "python",
   "nbconvert_exporter": "python",
   "pygments_lexer": "ipython3",
   "version": "3.8.8"
  }
 },
 "nbformat": 4,
 "nbformat_minor": 5
}
