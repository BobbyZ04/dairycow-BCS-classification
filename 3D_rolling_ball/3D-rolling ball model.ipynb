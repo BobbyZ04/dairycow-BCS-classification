{
 "cells": [
  {
   "cell_type": "code",
   "execution_count": 269,
   "id": "70c977e9",
   "metadata": {},
   "outputs": [],
   "source": [
    "from data_collection import labelize,read_img,rescale\n",
    "import pandas as pd\n",
    "import os\n",
    "from skimage import morphology as mor\n",
    "import glob\n",
    "import numpy as np\n",
    "from sklearn.preprocessing import PolynomialFeatures\n",
    "from sklearn.linear_model import LinearRegression\n",
    "from sklearn.metrics import mean_squared_error\n",
    "from mlxtend.evaluate import confusion_matrix\n",
    "from mlxtend.plotting import plot_confusion_matrix\n",
    "from matplotlib import pyplot as plt\n",
    "from matplotlib import cm\n",
    "import seaborn as sns"
   ]
  },
  {
   "cell_type": "code",
   "execution_count": 191,
   "id": "686af37a",
   "metadata": {},
   "outputs": [],
   "source": [
    "def labelize(img_dir, BCS, Weight, save_path):\n",
    "    labels = []\n",
    "    weight = []\n",
    "    image_names = []\n",
    "    path_list=os.listdir(img_dir)\n",
    "\n",
    "    for cow_img in path_list:\n",
    "        for ID in BCS.Cow_ID:\n",
    "            if str(ID) in cow_img:\n",
    "                #here adapt the code to fill the labels you defined yourself\n",
    "                labels.append(float(BCS.BCS_average[BCS.Cow_ID == ID]))\n",
    "                image_names.append(cow_img)\n",
    "                weight.append(int(Weight.Weight[Weight.Cow_ID == ID]))\n",
    "    Results = pd.DataFrame({'image_names':image_names, 'BCS':labels, 'weight':weight})\n",
    "\n",
    "    Results.to_csv(save_path,index=False)\n",
    "    \n",
    "    return Results"
   ]
  },
  {
   "cell_type": "code",
   "execution_count": 199,
   "id": "5381446b",
   "metadata": {},
   "outputs": [],
   "source": [
    "def baseline(form, baseline_dir, replace, disk):\n",
    "    \n",
    "    data = pd.DataFrame({'image_names':form.image_names,'BCS':form.BCS,'weight':form.weight,'angularity':[0]*len(form)})\n",
    "    img_path = os.path.join(baseline_dir,'*.png')\n",
    "    \n",
    "    for i, cow_img  in enumerate(glob.glob(img_path)):\n",
    "        cow = read_img(cow_img)\n",
    "        #cow = rescale(cow)\n",
    "        ball_roll = mor.opening(cow,disk)\n",
    "        diff = cow-ball_roll\n",
    "        diff_pd = pd.DataFrame(diff)\n",
    "        \n",
    "        diff_pd[diff_pd>1000] = replace\n",
    "         \n",
    "        angularity = np.sum(diff)/np.sum(cow)\n",
    "        data.angularity.iloc[i] = angularity\n",
    "        \n",
    "\n",
    "        \n",
    "    return diff, data"
   ]
  },
  {
   "cell_type": "code",
   "execution_count": 200,
   "id": "bdb6519d",
   "metadata": {},
   "outputs": [],
   "source": [
    "def fit(X,Y):\n",
    "    #these are different linear models using only angularity as the attribute\n",
    "    #Z = np.polyfit(X,Y,1)\n",
    "    #Z = np.polyfit(X,Y,2)\n",
    "    \n",
    "    #adding weight variable\n",
    "    poly = PolynomialFeatures(2)\n",
    "    X1 = poly.fit_transform(X)\n",
    "    Z = LinearRegression(normalize=False,fit_intercept=True).fit(X1,Y)\n",
    "    return Z.coef_,Z.intercept_"
   ]
  },
  {
   "cell_type": "code",
   "execution_count": 201,
   "id": "f72a42f7",
   "metadata": {},
   "outputs": [],
   "source": [
    "def ang_BCS(angular,weight,Z):\n",
    "    #BCS = Z[0]*angular*angular + Z[1]*angular +Z[2]\n",
    "    #BCS = Z[0]*angular + Z[1]\n",
    "    \n",
    "    \n",
    "    #transform inputs to 1, x1, x2, x1^2, x1x2, x2^:\n",
    "    poly = PolynomialFeatures(2)\n",
    "    X = np.c_[angular,weight]\n",
    "    X = poly.fit_transform(X)\n",
    "    BCS = np.dot(X,Z[0])+Z[1]\n",
    "    BCS = BCS[0]\n",
    "    #W = weight/100\n",
    "    \n",
    "\n",
    "    return BCS"
   ]
  },
  {
   "cell_type": "code",
   "execution_count": 202,
   "id": "b87ae7ba",
   "metadata": {},
   "outputs": [],
   "source": [
    "def rolling_ball(test_dir,BCS_data,Weight_data,Z,disk,replace,err_range):\n",
    "    \n",
    "    angularities = []\n",
    "    BCSs = []\n",
    "    labels = []\n",
    "    round_BCSs = []\n",
    "    round_labels = []\n",
    "\n",
    "    IDs = []\n",
    "    errors = []\n",
    "    weights = []\n",
    "\n",
    "    im_path = os.path.join(test_dir, '*.png')\n",
    "    \n",
    "    for i, cow_img in enumerate(glob.glob(im_path)):\n",
    "        \n",
    "        cow = read_img(cow_img)\n",
    "        ball_roll = mor.opening(cow,disk)\n",
    "        diff =  cow - ball_roll\n",
    "        diff_pd = pd.DataFrame(diff)\n",
    "        diff_pd[diff_pd>1000] = replace\n",
    "        \n",
    "        angularity = np.sum(diff)/np.sum(cow)\n",
    "        \n",
    "        \n",
    "\n",
    "    \n",
    "        for ID in BCS_data.Cow_ID:\n",
    "            if str(ID) in cow_img:\n",
    "                #add weight as a factor\n",
    "                weight = float(Weight_data.Weight[Weight_data.Cow_ID == ID])\n",
    "                W = weight/1000\n",
    "                A = angularity*1000\n",
    "                BCS_res = ang_BCS(A, W, Z)\n",
    "                \n",
    "                BCS = format(BCS_res,'.3f')\n",
    "                round_BCS = round(float(BCS)*4)/4\n",
    "                \n",
    "                labels.append(float(BCS_data.BCS_average[BCS_data.Cow_ID == ID]))\n",
    "                weights.append(weight)\n",
    "                round_labels.append(round(float(BCS_data.BCS_average[BCS_data.Cow_ID == ID])*4)/4)\n",
    "                IDs.append(ID)\n",
    "                \n",
    "    \n",
    "        angularities.append(angularity)\n",
    "        BCSs.append(BCS)\n",
    "        round_BCSs.append(round_BCS)\n",
    "        \n",
    "    BCSs = np.array(BCSs,float)\n",
    "    labels = np.array(labels,float)\n",
    "    errors = BCSs - labels\n",
    "    average_error = np.sum(np.abs(errors))/len(errors)\n",
    "    qualify = np.count_nonzero(np.abs(errors) < err_range)/len(errors)\n",
    "    Results = pd.DataFrame({'cow_ID':IDs, 'weight':weights,'angularity':angularities,'label':labels,'estimated_BCS':BCSs,'errors':errors,'round_labels':round_labels,'round_BCS':round_BCSs})\n",
    "    \n",
    "    return average_error, qualify, Results"
   ]
  },
  {
   "cell_type": "code",
   "execution_count": 203,
   "id": "cea2cfe0",
   "metadata": {},
   "outputs": [
    {
     "data": {
      "text/html": [
       "<div>\n",
       "<style scoped>\n",
       "    .dataframe tbody tr th:only-of-type {\n",
       "        vertical-align: middle;\n",
       "    }\n",
       "\n",
       "    .dataframe tbody tr th {\n",
       "        vertical-align: top;\n",
       "    }\n",
       "\n",
       "    .dataframe thead th {\n",
       "        text-align: right;\n",
       "    }\n",
       "</style>\n",
       "<table border=\"1\" class=\"dataframe\">\n",
       "  <thead>\n",
       "    <tr style=\"text-align: right;\">\n",
       "      <th></th>\n",
       "      <th>image_names</th>\n",
       "      <th>BCS</th>\n",
       "      <th>weight</th>\n",
       "    </tr>\n",
       "  </thead>\n",
       "  <tbody>\n",
       "    <tr>\n",
       "      <th>0</th>\n",
       "      <td>1182_014.png</td>\n",
       "      <td>3.250</td>\n",
       "      <td>690</td>\n",
       "    </tr>\n",
       "    <tr>\n",
       "      <th>1</th>\n",
       "      <td>1184_0016.png</td>\n",
       "      <td>2.625</td>\n",
       "      <td>601</td>\n",
       "    </tr>\n",
       "    <tr>\n",
       "      <th>2</th>\n",
       "      <td>1185_022.png</td>\n",
       "      <td>2.750</td>\n",
       "      <td>544</td>\n",
       "    </tr>\n",
       "    <tr>\n",
       "      <th>3</th>\n",
       "      <td>1187_010.png</td>\n",
       "      <td>3.125</td>\n",
       "      <td>750</td>\n",
       "    </tr>\n",
       "    <tr>\n",
       "      <th>4</th>\n",
       "      <td>1188_023.png</td>\n",
       "      <td>2.875</td>\n",
       "      <td>600</td>\n",
       "    </tr>\n",
       "    <tr>\n",
       "      <th>5</th>\n",
       "      <td>1191_008.png</td>\n",
       "      <td>3.375</td>\n",
       "      <td>675</td>\n",
       "    </tr>\n",
       "    <tr>\n",
       "      <th>6</th>\n",
       "      <td>1196_041.png</td>\n",
       "      <td>2.500</td>\n",
       "      <td>680</td>\n",
       "    </tr>\n",
       "    <tr>\n",
       "      <th>7</th>\n",
       "      <td>2158_008.png</td>\n",
       "      <td>3.875</td>\n",
       "      <td>603</td>\n",
       "    </tr>\n",
       "    <tr>\n",
       "      <th>8</th>\n",
       "      <td>2184_012.png</td>\n",
       "      <td>3.500</td>\n",
       "      <td>630</td>\n",
       "    </tr>\n",
       "  </tbody>\n",
       "</table>\n",
       "</div>"
      ],
      "text/plain": [
       "     image_names    BCS  weight\n",
       "0   1182_014.png  3.250     690\n",
       "1  1184_0016.png  2.625     601\n",
       "2   1185_022.png  2.750     544\n",
       "3   1187_010.png  3.125     750\n",
       "4   1188_023.png  2.875     600\n",
       "5   1191_008.png  3.375     675\n",
       "6   1196_041.png  2.500     680\n",
       "7   2158_008.png  3.875     603\n",
       "8   2184_012.png  3.500     630"
      ]
     },
     "execution_count": 203,
     "metadata": {},
     "output_type": "execute_result"
    }
   ],
   "source": [
    "#baseline calculation\n",
    "baseline_directory = 'C:/Users/BOZ/Zoetis_BCS/BCS_estimation/3D_rolling_ball/baseline/'\n",
    "BCS_data = pd.read_excel('BCS & Weights from 21Jul21.xlsx',sheet_name = 'BCS')\n",
    "weight_data = pd.read_excel('BCS & Weights from 21Jul21.xlsx',sheet_name = 'Body Weights')\n",
    "save_path = 'C:/Users/BOZ/Zoetis_BCS/BCS_estimation/3D_rolling_ball/baseline.csv'\n",
    "base_data = labelize(baseline_directory,BCS_data,weight_data,save_path)\n",
    "base_data.sort_values('image_names',inplace=True)\n",
    "base_data"
   ]
  },
  {
   "cell_type": "code",
   "execution_count": 246,
   "id": "bce3fa48",
   "metadata": {
    "scrolled": true
   },
   "outputs": [
    {
     "name": "stderr",
     "output_type": "stream",
     "text": [
      "C:\\Users\\BOZ\\Anaconda3\\lib\\site-packages\\pandas\\core\\indexing.py:1637: SettingWithCopyWarning: \n",
      "A value is trying to be set on a copy of a slice from a DataFrame\n",
      "\n",
      "See the caveats in the documentation: https://pandas.pydata.org/pandas-docs/stable/user_guide/indexing.html#returning-a-view-versus-a-copy\n",
      "  self._setitem_single_block(indexer, value, name)\n",
      "C:\\Users\\BOZ\\Anaconda3\\lib\\site-packages\\pandas\\core\\indexing.py:1637: SettingWithCopyWarning: \n",
      "A value is trying to be set on a copy of a slice from a DataFrame\n",
      "\n",
      "See the caveats in the documentation: https://pandas.pydata.org/pandas-docs/stable/user_guide/indexing.html#returning-a-view-versus-a-copy\n",
      "  self._setitem_single_block(indexer, value, name)\n",
      "C:\\Users\\BOZ\\Anaconda3\\lib\\site-packages\\pandas\\core\\indexing.py:1637: SettingWithCopyWarning: \n",
      "A value is trying to be set on a copy of a slice from a DataFrame\n",
      "\n",
      "See the caveats in the documentation: https://pandas.pydata.org/pandas-docs/stable/user_guide/indexing.html#returning-a-view-versus-a-copy\n",
      "  self._setitem_single_block(indexer, value, name)\n",
      "C:\\Users\\BOZ\\Anaconda3\\lib\\site-packages\\pandas\\core\\indexing.py:1637: SettingWithCopyWarning: \n",
      "A value is trying to be set on a copy of a slice from a DataFrame\n",
      "\n",
      "See the caveats in the documentation: https://pandas.pydata.org/pandas-docs/stable/user_guide/indexing.html#returning-a-view-versus-a-copy\n",
      "  self._setitem_single_block(indexer, value, name)\n",
      "C:\\Users\\BOZ\\Anaconda3\\lib\\site-packages\\pandas\\core\\indexing.py:1637: SettingWithCopyWarning: \n",
      "A value is trying to be set on a copy of a slice from a DataFrame\n",
      "\n",
      "See the caveats in the documentation: https://pandas.pydata.org/pandas-docs/stable/user_guide/indexing.html#returning-a-view-versus-a-copy\n",
      "  self._setitem_single_block(indexer, value, name)\n",
      "C:\\Users\\BOZ\\Anaconda3\\lib\\site-packages\\pandas\\core\\indexing.py:1637: SettingWithCopyWarning: \n",
      "A value is trying to be set on a copy of a slice from a DataFrame\n",
      "\n",
      "See the caveats in the documentation: https://pandas.pydata.org/pandas-docs/stable/user_guide/indexing.html#returning-a-view-versus-a-copy\n",
      "  self._setitem_single_block(indexer, value, name)\n",
      "C:\\Users\\BOZ\\Anaconda3\\lib\\site-packages\\pandas\\core\\indexing.py:1637: SettingWithCopyWarning: \n",
      "A value is trying to be set on a copy of a slice from a DataFrame\n",
      "\n",
      "See the caveats in the documentation: https://pandas.pydata.org/pandas-docs/stable/user_guide/indexing.html#returning-a-view-versus-a-copy\n",
      "  self._setitem_single_block(indexer, value, name)\n",
      "C:\\Users\\BOZ\\Anaconda3\\lib\\site-packages\\pandas\\core\\indexing.py:1637: SettingWithCopyWarning: \n",
      "A value is trying to be set on a copy of a slice from a DataFrame\n",
      "\n",
      "See the caveats in the documentation: https://pandas.pydata.org/pandas-docs/stable/user_guide/indexing.html#returning-a-view-versus-a-copy\n",
      "  self._setitem_single_block(indexer, value, name)\n",
      "C:\\Users\\BOZ\\Anaconda3\\lib\\site-packages\\pandas\\core\\indexing.py:1637: SettingWithCopyWarning: \n",
      "A value is trying to be set on a copy of a slice from a DataFrame\n",
      "\n",
      "See the caveats in the documentation: https://pandas.pydata.org/pandas-docs/stable/user_guide/indexing.html#returning-a-view-versus-a-copy\n",
      "  self._setitem_single_block(indexer, value, name)\n"
     ]
    },
    {
     "data": {
      "text/html": [
       "<div>\n",
       "<style scoped>\n",
       "    .dataframe tbody tr th:only-of-type {\n",
       "        vertical-align: middle;\n",
       "    }\n",
       "\n",
       "    .dataframe tbody tr th {\n",
       "        vertical-align: top;\n",
       "    }\n",
       "\n",
       "    .dataframe thead th {\n",
       "        text-align: right;\n",
       "    }\n",
       "</style>\n",
       "<table border=\"1\" class=\"dataframe\">\n",
       "  <thead>\n",
       "    <tr style=\"text-align: right;\">\n",
       "      <th></th>\n",
       "      <th>BCS</th>\n",
       "      <th>weight</th>\n",
       "      <th>angularity</th>\n",
       "    </tr>\n",
       "    <tr>\n",
       "      <th>image_names</th>\n",
       "      <th></th>\n",
       "      <th></th>\n",
       "      <th></th>\n",
       "    </tr>\n",
       "  </thead>\n",
       "  <tbody>\n",
       "    <tr>\n",
       "      <th>1196_041.png</th>\n",
       "      <td>2.500</td>\n",
       "      <td>680</td>\n",
       "      <td>0.004169</td>\n",
       "    </tr>\n",
       "    <tr>\n",
       "      <th>1184_0016.png</th>\n",
       "      <td>2.625</td>\n",
       "      <td>601</td>\n",
       "      <td>0.003781</td>\n",
       "    </tr>\n",
       "    <tr>\n",
       "      <th>1185_022.png</th>\n",
       "      <td>2.750</td>\n",
       "      <td>544</td>\n",
       "      <td>0.003634</td>\n",
       "    </tr>\n",
       "    <tr>\n",
       "      <th>1188_023.png</th>\n",
       "      <td>2.875</td>\n",
       "      <td>600</td>\n",
       "      <td>0.002918</td>\n",
       "    </tr>\n",
       "    <tr>\n",
       "      <th>1187_010.png</th>\n",
       "      <td>3.125</td>\n",
       "      <td>750</td>\n",
       "      <td>0.002655</td>\n",
       "    </tr>\n",
       "    <tr>\n",
       "      <th>1182_014.png</th>\n",
       "      <td>3.250</td>\n",
       "      <td>690</td>\n",
       "      <td>0.002665</td>\n",
       "    </tr>\n",
       "    <tr>\n",
       "      <th>1191_008.png</th>\n",
       "      <td>3.375</td>\n",
       "      <td>675</td>\n",
       "      <td>0.002425</td>\n",
       "    </tr>\n",
       "    <tr>\n",
       "      <th>2184_012.png</th>\n",
       "      <td>3.500</td>\n",
       "      <td>630</td>\n",
       "      <td>0.001945</td>\n",
       "    </tr>\n",
       "    <tr>\n",
       "      <th>2158_008.png</th>\n",
       "      <td>3.875</td>\n",
       "      <td>603</td>\n",
       "      <td>0.001902</td>\n",
       "    </tr>\n",
       "  </tbody>\n",
       "</table>\n",
       "</div>"
      ],
      "text/plain": [
       "                 BCS  weight  angularity\n",
       "image_names                             \n",
       "1196_041.png   2.500     680    0.004169\n",
       "1184_0016.png  2.625     601    0.003781\n",
       "1185_022.png   2.750     544    0.003634\n",
       "1188_023.png   2.875     600    0.002918\n",
       "1187_010.png   3.125     750    0.002655\n",
       "1182_014.png   3.250     690    0.002665\n",
       "1191_008.png   3.375     675    0.002425\n",
       "2184_012.png   3.500     630    0.001945\n",
       "2158_008.png   3.875     603    0.001902"
      ]
     },
     "execution_count": 246,
     "metadata": {},
     "output_type": "execute_result"
    }
   ],
   "source": [
    "replace = 6\n",
    "disk = mor.disk(7)\n",
    "diff, baseline_data = baseline(base_data,baseline_directory,replace,disk)\n",
    "baseline_data.to_csv('baseline.csv')\n",
    "baseline_data.sort_values(\"BCS\",inplace=True)\n",
    "baseline_data.set_index('image_names')\n",
    "#baseline_data.sort_values('angularity',inplace=True)"
   ]
  },
  {
   "cell_type": "code",
   "execution_count": 267,
   "id": "e6c2d85a",
   "metadata": {},
   "outputs": [
    {
     "data": {
      "text/plain": [
       "<Figure size 432x288 with 0 Axes>"
      ]
     },
     "metadata": {},
     "output_type": "display_data"
    },
    {
     "data": {
      "image/png": "[encoded data removed]",
      "text/plain": [
       "<Figure size 576x432 with 1 Axes>"
      ]
     },
     "metadata": {
      "needs_background": "light"
     },
     "output_type": "display_data"
    }
   ],
   "source": [
    "plt.set_cmap('Purples')\n",
    "\n",
    "\n",
    "x = baseline_data.angularity\n",
    "y = baseline_data.weight\n",
    "#x,y = np.meshgrid(x,y)\n",
    "z = baseline_data.BCS\n",
    "fig = plt.figure(figsize=(8,6))\n",
    "ax = fig.gca(projection='3d')\n",
    "\n",
    "#ax = fig.gca(projection='3d')\n",
    "surf = ax.plot_trisurf(x,y,z,cmap = 'RdGy')\n",
    "plt.show()"
   ]
  },
  {
   "cell_type": "code",
   "execution_count": 247,
   "id": "130d9e2f",
   "metadata": {
    "scrolled": false
   },
   "outputs": [
    {
     "name": "stdout",
     "output_type": "stream",
     "text": [
      "[[4.1688314  0.68      ]\n",
      " [3.78100845 0.601     ]\n",
      " [3.6340086  0.544     ]\n",
      " [2.91771637 0.6       ]\n",
      " [2.65541897 0.75      ]\n",
      " [2.66542925 0.69      ]\n",
      " [2.42535512 0.675     ]\n",
      " [1.94536415 0.63      ]\n",
      " [1.90223091 0.603     ]]\n",
      "(array([ 0.        , -1.38195486, -4.73087383,  0.16347451, -0.22547776,\n",
      "        4.09651876]), 7.38853403054756)\n"
     ]
    }
   ],
   "source": [
    "X = np.c_[(baseline_data.angularity)*1000,(baseline_data.weight)/1000]\n",
    "print(X)\n",
    "#Z  = fit(X,baseline_data.BCS)\n",
    "#X1 = baseline_data.angularity*1000\n",
    "Z = fit(X,baseline_data.BCS)\n",
    "print(Z)"
   ]
  },
  {
   "cell_type": "code",
   "execution_count": 248,
   "id": "5dc22f18",
   "metadata": {},
   "outputs": [
    {
     "data": {
      "text/plain": [
       "array([2.50649664])"
      ]
     },
     "execution_count": 248,
     "metadata": {},
     "output_type": "execute_result"
    }
   ],
   "source": [
    "poly = PolynomialFeatures(2)\n",
    "XX = poly.fit_transform([X[0]])\n",
    "np.dot(XX,Z[0])+Z[1]"
   ]
  },
  {
   "cell_type": "code",
   "execution_count": 249,
   "id": "dd939b43",
   "metadata": {},
   "outputs": [],
   "source": [
    "BCS_data = pd.read_excel('BCS & Weights from 21Jul21.xlsx',sheet_name = 'BCS')\n",
    "Weight_data = pd.read_excel('BCS & Weights from 21Jul21.xlsx',sheet_name = 'Body Weights')\n",
    "test_dir = 'C:/Users/BOZ/Zoetis_BCS/1+2_selected/'\n",
    "#test_dir = 'C:/Users/BOZ/Zoetis_BCS/BCS_estimation/3D_rolling_ball/test_set/'\n",
    "ave_error, qualify, Results = rolling_ball(test_dir,BCS_data,Weight_data,Z,disk,replace,err_range=0.5)"
   ]
  },
  {
   "cell_type": "code",
   "execution_count": 250,
   "id": "2093aeaa",
   "metadata": {},
   "outputs": [
    {
     "name": "stdout",
     "output_type": "stream",
     "text": [
      "average score error: 0.274\n",
      "percentage of predictions whose errors lower than 0.5: 85.41%\n"
     ]
    }
   ],
   "source": [
    "print(\"average score error:\",format(ave_error,'.3f'))\n",
    "print(\"percentage of predictions whose errors lower than 0.5:\",format(qualify,'.2%'))"
   ]
  },
  {
   "cell_type": "code",
   "execution_count": 251,
   "id": "198a7d10",
   "metadata": {},
   "outputs": [
    {
     "name": "stderr",
     "output_type": "stream",
     "text": [
      "C:\\Users\\BOZ\\Anaconda3\\lib\\site-packages\\xlsxwriter\\workbook.py:336: UserWarning: Calling close() on already closed file.\n",
      "  warn(\"Calling close() on already closed file.\")\n"
     ]
    }
   ],
   "source": [
    "writer = pd.ExcelWriter('rolling_ball_finalversion.xlsx')\n",
    "Results.to_excel(writer,'results')\n",
    "writer.save()\n",
    "writer.close()"
   ]
  },
  {
   "cell_type": "code",
   "execution_count": 252,
   "id": "662e600d",
   "metadata": {},
   "outputs": [],
   "source": [
    "class_names = ['2.5','2.75','3.0','3.25','3.5','3.75','4.0']\n",
    "cm = confusion_matrix(Results.round_BCS,Results.round_labels)"
   ]
  },
  {
   "cell_type": "code",
   "execution_count": 253,
   "id": "7be2b1ff",
   "metadata": {},
   "outputs": [
    {
     "name": "stderr",
     "output_type": "stream",
     "text": [
      "<ipython-input-253-42da911b7ea2>:12: UserWarning: FixedFormatter should only be used together with FixedLocator\n",
      "  ax.set_xticklabels(['']+alpha)\n",
      "<ipython-input-253-42da911b7ea2>:13: UserWarning: FixedFormatter should only be used together with FixedLocator\n",
      "  ax.set_yticklabels(['']+alpha)\n"
     ]
    },
    {
     "data": {
      "text/plain": [
       "Text(0, 0.5, 'Predicted BCS')"
      ]
     },
     "execution_count": 253,
     "metadata": {},
     "output_type": "execute_result"
    },
    {
     "data": {
      "text/plain": [
       "<Figure size 432x288 with 0 Axes>"
      ]
     },
     "metadata": {},
     "output_type": "display_data"
    },
    {
     "data": {
      "image/png": "[encoded data removed]",
      "text/plain": [
       "<Figure size 432x288 with 2 Axes>"
      ]
     },
     "metadata": {
      "needs_background": "light"
     },
     "output_type": "display_data"
    }
   ],
   "source": [
    "plt.set_cmap('Blues')\n",
    "alpha = ['2.5','2.75','3.0','3.25','3.5','3.75','4.0']\n",
    "fig = plt.figure()\n",
    "ax = fig.add_subplot(111)\n",
    "cax = ax.matshow(cm, interpolation='nearest')\n",
    "fig.colorbar(cax)\n",
    "data_conf = cm\n",
    "for (i, j), z in np.ndenumerate(data_conf):\n",
    "    ax.text(j, i, '{}'.format(z), ha='center', va='center')\n",
    "    # axis formatting \n",
    "\n",
    "ax.set_xticklabels(['']+alpha)\n",
    "ax.set_yticklabels(['']+alpha)\n",
    "plt.title(\"True BCS\".format(\" \"*18), fontsize=14)\n",
    "plt.ylabel(\"Predicted BCS\".format(\" \"*18), fontsize=14)"
   ]
  },
  {
   "cell_type": "code",
   "execution_count": 264,
   "id": "7093babb",
   "metadata": {},
   "outputs": [
    {
     "data": {
      "text/html": [
       "<div>\n",
       "<style scoped>\n",
       "    .dataframe tbody tr th:only-of-type {\n",
       "        vertical-align: middle;\n",
       "    }\n",
       "\n",
       "    .dataframe tbody tr th {\n",
       "        vertical-align: top;\n",
       "    }\n",
       "\n",
       "    .dataframe thead th {\n",
       "        text-align: right;\n",
       "    }\n",
       "</style>\n",
       "<table border=\"1\" class=\"dataframe\">\n",
       "  <thead>\n",
       "    <tr style=\"text-align: right;\">\n",
       "      <th></th>\n",
       "      <th>round_labels</th>\n",
       "      <th>estimated_BCS</th>\n",
       "    </tr>\n",
       "  </thead>\n",
       "  <tbody>\n",
       "    <tr>\n",
       "      <th>0</th>\n",
       "      <td>3.25</td>\n",
       "      <td>2.460</td>\n",
       "    </tr>\n",
       "    <tr>\n",
       "      <th>1</th>\n",
       "      <td>3.25</td>\n",
       "      <td>2.566</td>\n",
       "    </tr>\n",
       "    <tr>\n",
       "      <th>2</th>\n",
       "      <td>3.25</td>\n",
       "      <td>2.466</td>\n",
       "    </tr>\n",
       "    <tr>\n",
       "      <th>3</th>\n",
       "      <td>3.25</td>\n",
       "      <td>2.537</td>\n",
       "    </tr>\n",
       "    <tr>\n",
       "      <th>4</th>\n",
       "      <td>3.25</td>\n",
       "      <td>2.713</td>\n",
       "    </tr>\n",
       "    <tr>\n",
       "      <th>...</th>\n",
       "      <td>...</td>\n",
       "      <td>...</td>\n",
       "    </tr>\n",
       "    <tr>\n",
       "      <th>180</th>\n",
       "      <td>3.50</td>\n",
       "      <td>3.561</td>\n",
       "    </tr>\n",
       "    <tr>\n",
       "      <th>181</th>\n",
       "      <td>3.50</td>\n",
       "      <td>3.529</td>\n",
       "    </tr>\n",
       "    <tr>\n",
       "      <th>182</th>\n",
       "      <td>3.50</td>\n",
       "      <td>3.477</td>\n",
       "    </tr>\n",
       "    <tr>\n",
       "      <th>183</th>\n",
       "      <td>3.50</td>\n",
       "      <td>3.299</td>\n",
       "    </tr>\n",
       "    <tr>\n",
       "      <th>184</th>\n",
       "      <td>3.50</td>\n",
       "      <td>3.221</td>\n",
       "    </tr>\n",
       "  </tbody>\n",
       "</table>\n",
       "<p>185 rows × 2 columns</p>\n",
       "</div>"
      ],
      "text/plain": [
       "     round_labels  estimated_BCS\n",
       "0            3.25          2.460\n",
       "1            3.25          2.566\n",
       "2            3.25          2.466\n",
       "3            3.25          2.537\n",
       "4            3.25          2.713\n",
       "..            ...            ...\n",
       "180          3.50          3.561\n",
       "181          3.50          3.529\n",
       "182          3.50          3.477\n",
       "183          3.50          3.299\n",
       "184          3.50          3.221\n",
       "\n",
       "[185 rows x 2 columns]"
      ]
     },
     "execution_count": 264,
     "metadata": {},
     "output_type": "execute_result"
    }
   ],
   "source": [
    "#read our final estimation result\n",
    "df = pd.read_excel('rolling_ball_finalversion.xlsx')\n",
    "df = df[['round_labels','estimated_BCS']]\n",
    "df"
   ]
  },
  {
   "cell_type": "code",
   "execution_count": 259,
   "id": "a78ddba4",
   "metadata": {},
   "outputs": [
    {
     "data": {
      "text/plain": [
       "0.1360621027027027"
      ]
     },
     "execution_count": 259,
     "metadata": {},
     "output_type": "execute_result"
    }
   ],
   "source": [
    "X1 = Results.round_labels\n",
    "Y1 = Results.estimated_BCS\n",
    "c1 = np.abs(X1-Y1)\n",
    "c1 = round(c1*4)/4\n",
    "mean_squared_error(X1,Y1)"
   ]
  },
  {
   "cell_type": "code",
   "execution_count": 261,
   "id": "c1ad8acf",
   "metadata": {},
   "outputs": [
    {
     "data": {
      "text/plain": [
       "Text(0, 0.5, 'Predicted BCS')"
      ]
     },
     "execution_count": 261,
     "metadata": {},
     "output_type": "execute_result"
    },
    {
     "data": {
      "image/png": "[encoded data removed]",
      "text/plain": [
       "<Figure size 432x288 with 1 Axes>"
      ]
     },
     "metadata": {
      "needs_background": "light"
     },
     "output_type": "display_data"
    }
   ],
   "source": [
    "from matplotlib.pyplot import MultipleLocator\n",
    "plt.scatter(X1,Y1,c=c1,cmap='rainbow')\n",
    "x_major_locator=MultipleLocator(0.25)\n",
    "y_major_locator=MultipleLocator(0.25)\n",
    "ax=plt.gca()\n",
    "ax.xaxis.set_major_locator(x_major_locator)\n",
    "ax.yaxis.set_major_locator(y_major_locator)\n",
    "plt.xlim(2.25,4.25)\n",
    "plt.ylim(2.25,4.25)\n",
    "plt.xlabel(\"True BCS\".format(\" \"*18), fontsize=14)\n",
    "plt.ylabel(\"Predicted BCS\".format(\" \"*18), fontsize=14)"
   ]
  },
  {
   "cell_type": "code",
   "execution_count": 266,
   "id": "a3080256",
   "metadata": {
    "scrolled": true
   },
   "outputs": [
    {
     "data": {
      "image/png": "[encoded data removed]",
      "text/plain": [
       "<Figure size 432x288 with 1 Axes>"
      ]
     },
     "metadata": {
      "needs_background": "light"
     },
     "output_type": "display_data"
    }
   ],
   "source": [
    "ax = sns.boxplot(x=\"round_labels\", y=\"estimated_BCS\",\n",
    "                 data = df, linewidth=2)"
   ]
  }
 ],
 "metadata": {
  "kernelspec": {
   "display_name": "Python 3",
   "language": "python",
   "name": "python3"
  },
  "language_info": {
   "codemirror_mode": {
    "name": "ipython",
    "version": 3
   },
   "file_extension": ".py",
   "mimetype": "text/x-python",
   "name": "python",
   "nbconvert_exporter": "python",
   "pygments_lexer": "ipython3",
   "version": "3.8.8"
  }
 },
 "nbformat": 4,
 "nbformat_minor": 5
}
